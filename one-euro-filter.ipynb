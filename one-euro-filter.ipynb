{
 "cells": [
  {
   "cell_type": "code",
   "execution_count": 10,
   "metadata": {},
   "outputs": [],
   "source": [
    "import math\n",
    "import matplotlib.pyplot as plt\n",
    "import numpy as np \n",
    "import seaborn\n",
    "from matplotlib.animation import FuncAnimation"
   ]
  },
  {
   "cell_type": "code",
   "execution_count": 13,
   "metadata": {},
   "outputs": [],
   "source": [
    "def alpha(te, cutoff):\n",
    "    tau = 1 / (2* math.pi * cutoff)\n",
    "    return 1 / (1 + tau / te) \n",
    "\n",
    "def low_pass_filter(a, x, x_prev):\n",
    "    return a * x + (1-a) * x_prev\n",
    "\n"
   ]
  },
  {
   "cell_type": "code",
   "execution_count": 14,
   "metadata": {},
   "outputs": [
    {
     "name": "stderr",
     "output_type": "stream",
     "text": [
      "MovieWriter imagemagick unavailable; using Pillow instead.\n"
     ]
    },
    {
     "name": "stdout",
     "output_type": "stream",
     "text": [
      "0\n",
      "0\n",
      "10\n",
      "20\n",
      "30\n",
      "40\n",
      "50\n",
      "60\n",
      "70\n",
      "80\n",
      "90\n",
      "0\n"
     ]
    },
    {
     "data": {
      "image/png": "[encoded data removed]",
      "text/plain": [
       "<Figure size 864x432 with 1 Axes>"
      ]
     },
     "metadata": {},
     "output_type": "display_data"
    }
   ],
   "source": [
    "np.random.seed(1)\n",
    "\n",
    "# Parameters\n",
    "frames = 100\n",
    "start = 0\n",
    "end = 4 * np.pi\n",
    "scale = 0.1\n",
    "\n",
    "# The noisy signal\n",
    "t = np.linspace(start, end, frames)\n",
    "x = np.sin(t)\n",
    "x_noisy = x + np.random.normal(scale=scale, size=len(t))\n",
    "\n",
    "x_hat = np.zeros_like(x_noisy)\n",
    "\n",
    "# The filtered signal\n",
    "t_prev = t[0]\n",
    "x_prev = x_noisy[0]\n",
    "dcutoff = 1\n",
    "dx_prev = 0\n",
    "min_cutoff = 0.004\n",
    "beta = 0.7\n",
    "\n",
    "def one_euro_filter(t, x):\n",
    "    global t_prev, x_prev, min_cutoff, beta, dx_prev\n",
    "    \n",
    "    te = t - t_prev\n",
    "    \n",
    "    a_d = alpha(te, dcutoff)\n",
    "    \n",
    "    dx = (x - x_prev) / te\n",
    "    dx_prev = low_pass_filter(a_d, dx, dx_prev)\n",
    "    \n",
    "    cutoff = min_cutoff + beta * abs(dx_prev)\n",
    "    a = alpha(te, cutoff)\n",
    "    x_prev = low_pass_filter(a, x, x_prev)\n",
    "    t_prev = t\n",
    "    return x_prev\n",
    "\n",
    "for i in range(1, len(t)):\n",
    "    x_hat[i] = one_euro_filter(t[i], x_noisy[i])\n",
    "\n",
    "\n",
    "\n",
    "# The figure\n",
    "# https://eli.thegreenplace.net/2016/drawing-animated-gifs-with-matplotlib/\n",
    "seaborn.set()\n",
    "fig, ax = plt.subplots(figsize=(12, 6))\n",
    "ax.set(\n",
    "    xlim=(start, end),\n",
    "    ylim=(1.1*(-1-scale), 1.1*(1+scale)),\n",
    "    xlabel=\"$t$\",\n",
    "    ylabel=\"$x$\",\n",
    ")\n",
    "fig.set_tight_layout(True)\n",
    "signal, = ax.plot(t[0], x_noisy[0], 'o')\n",
    "filtered, = ax.plot(t[0], x_hat[0], '-')\n",
    "\n",
    "\n",
    "def update(i):\n",
    "    if i % 10 == 0:\n",
    "        print(i)\n",
    "    signal.set_data(t[0:i], x_noisy[0:i])\n",
    "    filtered.set_data(t[0:i], x_hat[0:i])\n",
    "\n",
    "    return signal\n",
    "\n",
    "\n",
    "anim = FuncAnimation(fig, update, frames=frames, interval=100)\n",
    "anim.save('one_euro_filter.gif', dpi=80, writer='imagemagick')\n",
    "plt.savefig(\"one_euro_filter.png\", dpi=300) "
   ]
  },
  {
   "cell_type": "code",
   "execution_count": null,
   "metadata": {},
   "outputs": [],
   "source": []
  }
 ],
 "metadata": {
  "kernelspec": {
   "display_name": "Python 3.9.7 64-bit ('base': conda)",
   "name": "python397jvsc74a57bd0774673e411ef570cde41b31bc80895a6fa9d6a0e2592e15df078a30d1d4b780d"
  },
  "language_info": {
   "codemirror_mode": {
    "name": "ipython",
    "version": 3
   },
   "file_extension": ".py",
   "mimetype": "text/x-python",
   "name": "python",
   "nbconvert_exporter": "python",
   "pygments_lexer": "ipython3",
   "version": "3.9.7"
  },
  "orig_nbformat": 2
 },
 "nbformat": 4,
 "nbformat_minor": 2
}
