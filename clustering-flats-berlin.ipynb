{
 "cells": [
  {
   "cell_type": "markdown",
   "metadata": {},
   "source": [
    "# Clustering \n",
    "data set crawled from immobilienscout24.de"
   ]
  },
  {
   "cell_type": "code",
   "execution_count": 2,
   "metadata": {
    "ExecuteTime": {
     "end_time": "2022-06-20T11:03:20.598776Z",
     "start_time": "2022-06-20T11:03:19.951124Z"
    }
   },
   "outputs": [],
   "source": [
    "import pandas as pd\n",
    "\n",
    "df_is = pd.read_csv('mietwohnungen.csv').dropna(subset=['lat','lng'], how='any')\n",
    "# some data cleaning\n",
    "df_is['lat'] = df_is['lat'].str.strip(\",\").astype(float)\n",
    "X = df_is[['lat','lng']]"
   ]
  },
  {
   "cell_type": "markdown",
   "metadata": {},
   "source": [
    "Now let's learn a clustering with sklearn's ``MiniBatchKMeans`` and compute the cluster assignments for all data points."
   ]
  },
  {
   "cell_type": "code",
   "execution_count": 3,
   "metadata": {
    "ExecuteTime": {
     "end_time": "2022-06-20T11:03:21.734535Z",
     "start_time": "2022-06-20T11:03:20.601771Z"
    }
   },
   "outputs": [],
   "source": [
    "from sklearn.cluster import MiniBatchKMeans\n",
    "# we'll look at 12 clusters - feel free to change that\n",
    "n_clusters = 12\n",
    "\n",
    "km_is = MiniBatchKMeans(n_clusters=n_clusters).fit(X)\n",
    "\n",
    "# PREDICT CLUSTERS WITH THAT MODEL HERE\n",
    "df_is['cluster_assignment'] =  km_is.predict(X)"
   ]
  },
  {
   "cell_type": "markdown",
   "metadata": {},
   "source": [
    "Now let's plot the predictions on the Berlin map."
   ]
  },
  {
   "cell_type": "code",
   "execution_count": 4,
   "metadata": {
    "ExecuteTime": {
     "end_time": "2022-06-20T11:03:31.331216Z",
     "start_time": "2022-06-20T11:03:21.738524Z"
    }
   },
   "outputs": [
    {
     "name": "stdout",
     "output_type": "stream",
     "text": [
      "Requirement already satisfied: folium in /Users/lukas/opt/anaconda3/lib/python3.9/site-packages (0.12.1.post1)\n",
      "Requirement already satisfied: branca>=0.3.0 in /Users/lukas/opt/anaconda3/lib/python3.9/site-packages (from folium) (0.5.0)\n",
      "Requirement already satisfied: requests in /Users/lukas/opt/anaconda3/lib/python3.9/site-packages (from folium) (2.26.0)\n",
      "Requirement already satisfied: jinja2>=2.9 in /Users/lukas/opt/anaconda3/lib/python3.9/site-packages (from folium) (2.11.3)\n",
      "Requirement already satisfied: numpy in /Users/lukas/opt/anaconda3/lib/python3.9/site-packages (from folium) (1.20.3)\n",
      "Requirement already satisfied: MarkupSafe>=0.23 in /Users/lukas/opt/anaconda3/lib/python3.9/site-packages (from jinja2>=2.9->folium) (1.1.1)\n",
      "Requirement already satisfied: idna<4,>=2.5 in /Users/lukas/opt/anaconda3/lib/python3.9/site-packages (from requests->folium) (3.2)\n",
      "Requirement already satisfied: certifi>=2017.4.17 in /Users/lukas/opt/anaconda3/lib/python3.9/site-packages (from requests->folium) (2021.10.8)\n",
      "Requirement already satisfied: urllib3<1.27,>=1.21.1 in /Users/lukas/opt/anaconda3/lib/python3.9/site-packages (from requests->folium) (1.26.7)\n",
      "Requirement already satisfied: charset-normalizer~=2.0.0 in /Users/lukas/opt/anaconda3/lib/python3.9/site-packages (from requests->folium) (2.0.4)\n"
     ]
    },
    {
     "data": {
      "text/html": [
       "\n",
       "        <iframe\n",
       "            width=\"700\"\n",
       "            height=\"600\"\n",
       "            src=\"./flat_clusters.html\"\n",
       "            frameborder=\"0\"\n",
       "            allowfullscreen\n",
       "            \n",
       "        ></iframe>\n",
       "        "
      ],
      "text/plain": [
       "<IPython.lib.display.IFrame at 0x7f79cd694d90>"
      ]
     },
     "execution_count": 4,
     "metadata": {},
     "output_type": "execute_result"
    }
   ],
   "source": [
    "# uncomment the next line to install the folium package for plotting maps\n",
    "!pip install folium\n",
    "import folium\n",
    "from matplotlib import colors as mcolors\n",
    "# some dark colors without gray/grey\n",
    "colors = [c for c in list(mcolors.CSS4_COLORS.keys()) if 'dark' in c][6:]\n",
    "\n",
    "# the initial map, centered at Beuth\n",
    "m = folium.Map(location=[52.545195, 13.354670], tiles='Stamen Toner', zoom_start=10)\n",
    "\n",
    "# add the flats and the cluster centers to the map\n",
    "for cluster_id in range(len(df_is['cluster_assignment'].unique())):\n",
    "    this_cluster_idx = df_is['cluster_assignment']==cluster_id\n",
    "    this_cluster_lat_lng = df_is.loc[this_cluster_idx, ['lat','lng']].values\n",
    "    for lat, lng in this_cluster_lat_lng:\n",
    "        folium.CircleMarker(\n",
    "        radius=2,\n",
    "        location=[lat, lng],\n",
    "        color=colors[cluster_id],\n",
    "        fill=False,\n",
    "        ).add_to(m)\n",
    "    \n",
    "    folium.CircleMarker(\n",
    "        location=[coord for coord in km_is.cluster_centers_[cluster_id,:]],\n",
    "        radius=10,\n",
    "        color=colors[cluster_id],\n",
    "        fill=True,\n",
    "    ).add_to(m)\n",
    "\n",
    "m.save('flat_clusters.html')\n",
    "\n",
    "from IPython.display import IFrame\n",
    "\n",
    "IFrame(src='./flat_clusters.html', width=700, height=600)"
   ]
  },
  {
   "cell_type": "code",
   "execution_count": null,
   "metadata": {},
   "outputs": [],
   "source": []
  }
 ],
 "metadata": {
  "kernelspec": {
   "display_name": "Python 3.9.7 64-bit ('anaconda3': virtualenv)",
   "name": "python397jvsc74a57bd0774673e411ef570cde41b31bc80895a6fa9d6a0e2592e15df078a30d1d4b780d"
  },
  "language_info": {
   "codemirror_mode": {
    "name": "ipython",
    "version": 3
   },
   "file_extension": ".py",
   "mimetype": "text/x-python",
   "name": "python",
   "nbconvert_exporter": "python",
   "pygments_lexer": "ipython3",
   "version": "3.9.7"
  },
  "varInspector": {
   "cols": {
    "lenName": 16,
    "lenType": 16,
    "lenVar": 40
   },
   "kernels_config": {
    "python": {
     "delete_cmd_postfix": "",
     "delete_cmd_prefix": "del ",
     "library": "var_list.py",
     "varRefreshCmd": "print(var_dic_list())"
    },
    "r": {
     "delete_cmd_postfix": ") ",
     "delete_cmd_prefix": "rm(",
     "library": "var_list.r",
     "varRefreshCmd": "cat(var_dic_list()) "
    }
   },
   "types_to_exclude": [
    "module",
    "function",
    "builtin_function_or_method",
    "instance",
    "_Feature"
   ],
   "window_display": false
  }
 },
 "nbformat": 4,
 "nbformat_minor": 2
}
